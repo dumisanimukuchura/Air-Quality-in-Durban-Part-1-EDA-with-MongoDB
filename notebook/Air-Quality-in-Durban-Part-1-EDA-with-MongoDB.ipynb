{
 "cells": [
  {
   "cell_type": "markdown",
   "id": "ac84d7a7-8bbd-47f8-8910-fa8364aeff0c",
   "metadata": {},
   "source": [
    "## Air-Quality-in-Durban-Part-1-EDA-with-MongoDB by Dumisani Maxwell Mukuchura\n",
    "\n",
    "#### Dataset Source: *https://open.africa/dataset/sensorsafrica-airquality-archive-durban*\n",
    "\n",
    "##### Contact: dumisanimukuchura@gmail.com | LinkedIn: https://www.linkedin.com/in/dumisani-maxwell-mukuchura-4859b7170/\n",
    "\n",
    "##### This Project will explore the time series dataset for Air Quality and will dissect it with Exploratory Data Analysis \n",
    "\n",
    "Kindly note this was done from a Local machine on Windows with a locally hosted database using Mongo DB, Mongo DB Compass and MongoDB Shell i.e a NoSQL database.  "
   ]
  },
  {
   "cell_type": "code",
   "execution_count": 2,
   "id": "16549c38-b6ff-406a-a691-fe57a2d2b9e2",
   "metadata": {},
   "outputs": [],
   "source": [
    "#Import Libraries\n",
    "\n",
    "from pprint import PrettyPrinter  #makes documents easier to read\n",
    "import pandas as pd \n",
    "from pymongo import MongoClient  #useful to get Data from Mongo DB   "
   ]
  },
  {
   "cell_type": "markdown",
   "id": "2fe21fee-706d-4233-912e-fcd2082f1474",
   "metadata": {},
   "source": [
    "## 1. Prepare Data"
   ]
  },
  {
   "cell_type": "markdown",
   "id": "2bff96ae-3ab2-485f-8c37-5b81a1e558e4",
   "metadata": {},
   "source": [
    "### 1.1. Connect"
   ]
  },
  {
   "cell_type": "code",
   "execution_count": 6,
   "id": "d5901267-9d5b-4e79-8123-89c663d7080d",
   "metadata": {},
   "outputs": [],
   "source": [
    "pp = PrettyPrinter(indent = 2)\n",
    "client = MongoClient(host= \"localhost\", port = 27017)"
   ]
  },
  {
   "cell_type": "markdown",
   "id": "e23d3845-7f5e-416f-8208-b5d854f39467",
   "metadata": {},
   "source": [
    "### 1.2. Explore"
   ]
  },
  {
   "cell_type": "code",
   "execution_count": 9,
   "id": "f5ad62f0-132e-4556-93d9-b455cc40050c",
   "metadata": {},
   "outputs": [
    {
     "name": "stdout",
     "output_type": "stream",
     "text": [
      "[ {'empty': False, 'name': 'admin', 'sizeOnDisk': 40960},\n",
      "  {'empty': False, 'name': 'air_quality', 'sizeOnDisk': 49152},\n",
      "  {'empty': False, 'name': 'config', 'sizeOnDisk': 110592},\n",
      "  {'empty': False, 'name': 'local', 'sizeOnDisk': 40960}]\n"
     ]
    }
   ],
   "source": [
    "# What Databases are available?\n",
    "pp.pprint(list(client.list_databases()))"
   ]
  },
  {
   "cell_type": "code",
   "execution_count": 10,
   "id": "119d315e-f1b9-4a34-a6a5-60845efefabb",
   "metadata": {},
   "outputs": [],
   "source": [
    "#Assign database to db variable\n",
    "db = client[\"air_quality\"]"
   ]
  },
  {
   "cell_type": "code",
   "execution_count": 11,
   "id": "73597adb-a3ee-49c8-b59a-097164d4dbb5",
   "metadata": {},
   "outputs": [
    {
     "data": {
      "text/plain": [
       "{'name': 'durban',\n",
       " 'type': 'collection',\n",
       " 'options': {},\n",
       " 'info': {'readOnly': False,\n",
       "  'uuid': Binary(b'\\xea\\x8d\\xa6{q\\x94@\\xed\\xbc\\xa5\\xd8\\x83\\xdb\\x00;\\xcb', 4)},\n",
       " 'idIndex': {'v': 2, 'key': {'_id': 1}, 'name': '_id_'}}"
      ]
     },
     "execution_count": 11,
     "metadata": {},
     "output_type": "execute_result"
    }
   ],
   "source": [
    "# View available collections in the db - start with a single one to understand the form\n",
    "list(db.list_collections())[0]"
   ]
  },
  {
   "cell_type": "code",
   "execution_count": 12,
   "id": "06d6a047-1dfe-4ab6-b400-167d9fe94e12",
   "metadata": {},
   "outputs": [
    {
     "data": {
      "text/plain": [
       "['durban']"
      ]
     },
     "execution_count": 12,
     "metadata": {},
     "output_type": "execute_result"
    }
   ],
   "source": [
    "# View available collections in the db\n",
    "list(db.list_collection_names())"
   ]
  },
  {
   "cell_type": "code",
   "execution_count": 13,
   "id": "f58d238c-ffa0-4029-91b1-2e8101d83632",
   "metadata": {},
   "outputs": [],
   "source": [
    "# Assign the Durban collection to durban variable\n",
    "durban = db[\"durban\"]"
   ]
  },
  {
   "cell_type": "code",
   "execution_count": 15,
   "id": "a93469e8-2995-4ac3-9f3f-7eec765de125",
   "metadata": {},
   "outputs": [
    {
     "data": {
      "text/plain": [
       "424"
      ]
     },
     "execution_count": 15,
     "metadata": {},
     "output_type": "execute_result"
    }
   ],
   "source": [
    "#Count how many documents are in the Durban Collection\n",
    "document_count = durban.count_documents({})\n",
    "document_count"
   ]
  },
  {
   "cell_type": "code",
   "execution_count": 16,
   "id": "c379f8f1-cfa0-40b0-9b2b-85a18ea986f6",
   "metadata": {},
   "outputs": [
    {
     "name": "stdout",
     "output_type": "stream",
     "text": [
      "{ '_id': ObjectId('67c70bc3f6ce00cb6195a489'),\n",
      "  'lat': -29.848,\n",
      "  'location': 1,\n",
      "  'lon': 30.922,\n",
      "  'sensor_id': 21,\n",
      "  'sensor_type': 'SDS011',\n",
      "  'timestamp': datetime.datetime(2017, 11, 24, 14, 21, 55, 531000),\n",
      "  'value': 5.0,\n",
      "  'value_type': 'P2'}\n"
     ]
    }
   ],
   "source": [
    "#View one document to understand the structure\n",
    "pp.pprint(durban.find_one({}))"
   ]
  },
  {
   "cell_type": "code",
   "execution_count": 18,
   "id": "af6a6a9d-1646-478f-96bf-82835c8c376b",
   "metadata": {},
   "outputs": [
    {
     "data": {
      "text/plain": [
       "['P1', 'P2', 'humidity', 'temperature']"
      ]
     },
     "execution_count": 18,
     "metadata": {},
     "output_type": "execute_result"
    }
   ],
   "source": [
    "#Determining how many distinct type of readings were done in the Durban collection\n",
    "durban.distinct(\"value_type\")"
   ]
  },
  {
   "cell_type": "code",
   "execution_count": 19,
   "id": "a17b0b13-452e-421c-93f4-0483861ec917",
   "metadata": {},
   "outputs": [
    {
     "name": "stdout",
     "output_type": "stream",
     "text": [
      "[ {'_id': 'humidity', 'count': 52},\n",
      "  {'_id': 'temperature', 'count': 52},\n",
      "  {'_id': 'P1', 'count': 160},\n",
      "  {'_id': 'P2', 'count': 160}]\n"
     ]
    }
   ],
   "source": [
    "#Determine how many documents are there by Value Type?\n",
    "agg_result = durban.aggregate(\n",
    "    [\n",
    "        {\"$group\": {\"_id\": \"$value_type\", \"count\":{\"$count\":{}}}}\n",
    "    ]\n",
    ")\n",
    "pp.pprint(list(agg_result))"
   ]
  },
  {
   "cell_type": "code",
   "execution_count": null,
   "id": "19ee9c1c-eabd-4e42-a6dd-8ed64a461c8e",
   "metadata": {},
   "outputs": [],
   "source": []
  }
 ],
 "metadata": {
  "kernelspec": {
   "display_name": "Python 3 (ipykernel)",
   "language": "python",
   "name": "python3"
  },
  "language_info": {
   "codemirror_mode": {
    "name": "ipython",
    "version": 3
   },
   "file_extension": ".py",
   "mimetype": "text/x-python",
   "name": "python",
   "nbconvert_exporter": "python",
   "pygments_lexer": "ipython3",
   "version": "3.12.4"
  }
 },
 "nbformat": 4,
 "nbformat_minor": 5
}
